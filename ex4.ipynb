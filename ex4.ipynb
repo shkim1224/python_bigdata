{
 "cells": [
  {
   "cell_type": "code",
   "execution_count": 83,
   "metadata": {},
   "outputs": [
    {
     "name": "stdout",
     "output_type": "stream",
     "text": [
      "140737051897024 140737051897344\n",
      " c  d  inside of function =  140737051897024 140737051897344\n",
      "30\n"
     ]
    }
   ],
   "source": [
    "def add(c,d):\n",
    "    print(\" c  d  inside of function = \",id(c),id(d))\n",
    "    return c+d\n",
    "\n",
    "a=10\n",
    "b=20\n",
    "print(id(a),id(b))  # 주소 address == pointer \n",
    "print(add(a,b))"
   ]
  },
  {
   "cell_type": "code",
   "execution_count": 85,
   "metadata": {},
   "outputs": [
    {
     "name": "stdout",
     "output_type": "stream",
     "text": [
      "y의 주소 =  140737051897024\n",
      "x의 주소 = 140737051897024\n",
      "x의 주소 = 140737051897344\n"
     ]
    }
   ],
   "source": [
    "def func1(x):\n",
    "    print(\"x의 주소 =\", id(x))\n",
    "    x = x+10 # x는 호출된 함수의 인수 y의 reference(참조) 함수내에서 x(==y)를 변경\n",
    "    print(\"x의 주소 =\", id(x))\n",
    "    \n",
    "y = 10\n",
    "print(\"y의 주소 = \",id(y))\n",
    "func1(y)  # y를 인수로 함수 func1() 호출\n",
    "#print( \"y=\",y,\" id=\",id(y))  # y의 값이 함수 func1()의 호출에 의해 변경되었는지 확인\n"
   ]
  },
  {
   "cell_type": "code",
   "execution_count": 86,
   "metadata": {},
   "outputs": [
    {
     "name": "stdout",
     "output_type": "stream",
     "text": [
      "1750927740992\n",
      "함수 인자 주소 = 1750927740992\n",
      "함수 인자 변경 후 주소 =  1750927740992\n",
      "[1, 2, 3, 4]\n"
     ]
    }
   ],
   "source": [
    "def modify_list(lst):\n",
    "    print(\"함수 인자 주소 =\", id(lst))\n",
    "    lst.append(4)  # Modifying the list\n",
    "    print(\"함수 인자 변경 후 주소 = \",id(lst))\n",
    "\n",
    "my_list = [1, 2, 3]\n",
    "print(id(my_list))\n",
    "modify_list(my_list)\n",
    "print(my_list)  # Output: [1, 2, 3, 4] 함수에서 변경된 내용이 반영됨\n"
   ]
  },
  {
   "cell_type": "code",
   "execution_count": 61,
   "metadata": {},
   "outputs": [
    {
     "name": "stdout",
     "output_type": "stream",
     "text": [
      "함수 바깥의 변수 a의 주소 = 140737051896736\n",
      "함수 파라미터 b의 주소 = 140737051896736\n",
      "b = b+1 수식의 왼쪽 변수 주소 =  140737051896768\n",
      "1\n"
     ]
    }
   ],
   "source": [
    "def vartest(b):\n",
    "    print(\"함수 파라미터 b의 주소 =\",id(b))\n",
    "    b = b +1  # right value는 a 변수와 주소가 동일한 참조형 변수 left value는\n",
    "              # 이름이 같아도 다른 변수\n",
    "    print(\"b = b+1 수식의 왼쪽 변수 주소 = \",id(b))\n",
    "\n",
    "a = 1\n",
    "print(\"함수 바깥의 변수 a의 주소 =\",id(a))\n",
    "vartest(a) \n",
    "print(a)  # a의 값이 변경되었는지 확인!!!"
   ]
  },
  {
   "cell_type": "code",
   "execution_count": 62,
   "metadata": {},
   "outputs": [
    {
     "name": "stdout",
     "output_type": "stream",
     "text": [
      "2\n"
     ]
    }
   ],
   "source": [
    "def vartest(): \n",
    "    global a \n",
    "    a = a+1\n",
    "a = 1 \n",
    "vartest() \n",
    "print(a)"
   ]
  },
  {
   "cell_type": "code",
   "execution_count": 97,
   "metadata": {},
   "outputs": [
    {
     "data": {
      "text/plain": [
       "[0, 1, 4, 9, 16, 25, 36, 49, 64, 81]"
      ]
     },
     "execution_count": 97,
     "metadata": {},
     "output_type": "execute_result"
    }
   ],
   "source": [
    "squares = []\n",
    "for x in range(10):\n",
    "\tsquares.append(x*x)\n",
    "\t\n",
    "squares    \n"
   ]
  },
  {
   "cell_type": "code",
   "execution_count": 98,
   "metadata": {},
   "outputs": [
    {
     "data": {
      "text/plain": [
       "[0, 1, 4, 9, 16, 25, 36, 49, 64, 81]"
      ]
     },
     "execution_count": 98,
     "metadata": {},
     "output_type": "execute_result"
    }
   ],
   "source": [
    "sqare=[ x*x for x in range(10)]\n",
    "sqare"
   ]
  },
  {
   "cell_type": "code",
   "execution_count": 2,
   "metadata": {},
   "outputs": [
    {
     "name": "stdout",
     "output_type": "stream",
     "text": [
      "5\n",
      "원래 리스트:  [10, 20, 30, 40, 50]\n",
      "새로운 리스트:  [10, 30, 60, 100, 150]\n"
     ]
    }
   ],
   "source": [
    "list1=[10, 20, 30, 40, 50]\n",
    "print(len(list1))\n",
    "list2=[sum(list1[0:x+1]) for x in range(0, len(list1))]\n",
    "print(\"원래 리스트: \",list1)\n",
    "print(\"새로운 리스트: \",list2)\n"
   ]
  },
  {
   "cell_type": "code",
   "execution_count": 66,
   "metadata": {},
   "outputs": [
    {
     "data": {
      "text/plain": [
       "[135, 922, 356, 217]"
      ]
     },
     "execution_count": 66,
     "metadata": {},
     "output_type": "execute_result"
    }
   ],
   "source": [
    "mprices = [ i for i in prices if i > 0 ] #else 0 ]\n",
    "mprices"
   ]
  },
  {
   "cell_type": "code",
   "execution_count": 67,
   "metadata": {},
   "outputs": [
    {
     "name": "stdout",
     "output_type": "stream",
     "text": [
      "[2, 4, 6, 8, 10, 12, 14, 16, 18, 3, 6, 9, 12, 15, 18, 21, 24, 27, 4, 8, 12, 16, 20, 24, 28, 32, 36, 5, 10, 15, 20, 25, 30, 35, 40, 45, 6, 12, 18, 24, 30, 36, 42, 48, 54, 7, 14, 21, 28, 35, 42, 49, 56, 63, 8, 16, 24, 32, 40, 48, 56, 64, 72, 9, 18, 27, 36, 45, 54, 63, 72, 81]\n"
     ]
    }
   ],
   "source": [
    "result = [x*y for x in range(2,10) for y in range(1,10)] \n",
    "print(result)\n"
   ]
  },
  {
   "cell_type": "code",
   "execution_count": 68,
   "metadata": {},
   "outputs": [
    {
     "name": "stdout",
     "output_type": "stream",
     "text": [
      "s = [[0, 0, 0, 0, 0], [0, 0, 0, 0, 0], [0, 0, 0, 0, 0]]\n"
     ]
    }
   ],
   "source": [
    "rows = 3\n",
    "cols = 5\n",
    "\n",
    "s = [ ([0] * cols) for row in range(rows) ]\n",
    "\n",
    "print(\"s =\", s)\n"
   ]
  },
  {
   "cell_type": "code",
   "execution_count": 69,
   "metadata": {},
   "outputs": [
    {
     "name": "stdout",
     "output_type": "stream",
     "text": [
      "1,2,3,4,5,\n",
      "6,7,8,9,10,\n",
      "11,12,13,14,15,\n"
     ]
    }
   ],
   "source": [
    "s = [ \t[ 1, 2, 3, 4, 5 ] ,\n",
    "\t[ 6, 7, 8, 9, 10 ], \n",
    "\t[11, 12, 13, 14, 15 ] ]\n",
    "\n",
    "# 행과 열의 개수를 구한다. \n",
    "rows = len(s)\n",
    "cols = len(s[0])\n",
    "\n",
    "for r in range(rows):\n",
    "\tfor c in range(cols):\n",
    "\t\tprint(s[r][c], end=\",\")\n",
    "\tprint()\n"
   ]
  },
  {
   "cell_type": "code",
   "execution_count": 71,
   "metadata": {},
   "outputs": [
    {
     "name": "stdout",
     "output_type": "stream",
     "text": [
      "[[0, 1, 2, 3, 4], [0, 1, 2, 3, 4], [0, 1, 2, 3, 4], [0, 1, 2, 3, 4], [0, 1, 2, 3, 4], [0, 1, 2, 3, 4]]\n"
     ]
    }
   ],
   "source": [
    "matrix = [[i for i in range(5)] for _ in range(6)]\n",
    "print(matrix)\n"
   ]
  },
  {
   "cell_type": "code",
   "execution_count": 72,
   "metadata": {},
   "outputs": [
    {
     "name": "stdout",
     "output_type": "stream",
     "text": [
      "[0, 0, 0, 1, 1, 1, 2, 2, 2]\n"
     ]
    }
   ],
   "source": [
    "matrix = [ [0, 0, 0], [1, 1, 1], [2, 2, 2] ]\n",
    "result = [num for row in matrix for num in row]\n",
    "print(result)\n"
   ]
  },
  {
   "cell_type": "code",
   "execution_count": 74,
   "metadata": {},
   "outputs": [
    {
     "data": {
      "text/plain": [
       "[[1, 4, 7], [2, 5, 8], [3, 6, 9]]"
      ]
     },
     "execution_count": 74,
     "metadata": {},
     "output_type": "execute_result"
    }
   ],
   "source": [
    "matrix = [[1, 2, 3],\n",
    "          [4, 5, 6],\n",
    "          [7, 8, 9]]\n",
    "transposed = [list(row) for row in zip(*matrix)]\n",
    "transposed\n"
   ]
  },
  {
   "cell_type": "code",
   "execution_count": 75,
   "metadata": {},
   "outputs": [
    {
     "data": {
      "text/plain": [
       "[('a', 0, 0), ('b', 1, 1), ('c', 2, 2)]"
      ]
     },
     "execution_count": 75,
     "metadata": {},
     "output_type": "execute_result"
    }
   ],
   "source": [
    "list(zip('abcdefg', range(3), range(4)))"
   ]
  },
  {
   "cell_type": "code",
   "execution_count": 89,
   "metadata": {},
   "outputs": [
    {
     "name": "stdout",
     "output_type": "stream",
     "text": [
      "s = [0, 0, 0, 0, 0, 0, 0, 0, 0, 0, 0, 0, 0, 0, 0]\n"
     ]
    }
   ],
   "source": [
    "# 동적으로 2차원 리스트를 생성한다. \n",
    "rows = 3\n",
    "cols = 5\n",
    "\n",
    "s = [ ]\n",
    "for row in range(rows): \n",
    "\ts += [0]*cols\t\t# 2차원 리스트끼리 합쳐진다. \n",
    "\n",
    "print(\"s =\", s)\n"
   ]
  },
  {
   "cell_type": "code",
   "execution_count": 90,
   "metadata": {},
   "outputs": [
    {
     "data": {
      "text/plain": [
       "[0, 0]"
      ]
     },
     "execution_count": 90,
     "metadata": {},
     "output_type": "execute_result"
    }
   ],
   "source": [
    "a = [0]*2\n",
    "a"
   ]
  },
  {
   "cell_type": "code",
   "execution_count": 95,
   "metadata": {},
   "outputs": [],
   "source": [
    "def sum(numbers) :\n",
    "\ttotal = 0\n",
    "\tprint(id(numbers))\n",
    "\tfor i in range(len(numbers)):\n",
    "\t\tfor j in range(len(numbers[0])):\n",
    "\t\t\ttotal = total + numbers[i][j]\n",
    "\treturn total\n"
   ]
  },
  {
   "cell_type": "code",
   "execution_count": 96,
   "metadata": {},
   "outputs": [
    {
     "name": "stdout",
     "output_type": "stream",
     "text": [
      "1750957082880\n",
      "1750957082880\n",
      "14\n"
     ]
    }
   ],
   "source": [
    "mat = [ [1,3],[4,6]]\n",
    "print(id(mat))\n",
    "print(sum(mat))"
   ]
  }
 ],
 "metadata": {
  "kernelspec": {
   "display_name": "python_bigdata",
   "language": "python",
   "name": "python3"
  },
  "language_info": {
   "codemirror_mode": {
    "name": "ipython",
    "version": 3
   },
   "file_extension": ".py",
   "mimetype": "text/x-python",
   "name": "python",
   "nbconvert_exporter": "python",
   "pygments_lexer": "ipython3",
   "version": "3.8.16"
  },
  "orig_nbformat": 4
 },
 "nbformat": 4,
 "nbformat_minor": 2
}
